{
 "cells": [
  {
   "cell_type": "code",
   "execution_count": 1,
   "metadata": {},
   "outputs": [],
   "source": [
    "#import statement\n",
    "import numpy as np"
   ]
  },
  {
   "cell_type": "code",
   "execution_count": 6,
   "metadata": {},
   "outputs": [],
   "source": [
    "an_array=np.array([3,33,333])"
   ]
  },
  {
   "cell_type": "code",
   "execution_count": 7,
   "metadata": {},
   "outputs": [
    {
     "name": "stdout",
     "output_type": "stream",
     "text": [
      "[  3  33 333]\n"
     ]
    }
   ],
   "source": [
    "print(an_array)"
   ]
  },
  {
   "cell_type": "code",
   "execution_count": 9,
   "metadata": {},
   "outputs": [
    {
     "name": "stdout",
     "output_type": "stream",
     "text": [
      "(3,)\n"
     ]
    }
   ],
   "source": [
    "print(an_array.shape) #checking the dimension"
   ]
  },
  {
   "cell_type": "code",
   "execution_count": 10,
   "metadata": {},
   "outputs": [
    {
     "name": "stdout",
     "output_type": "stream",
     "text": [
      "[[11 12 13]\n",
      " [21 22 23]]\n"
     ]
    }
   ],
   "source": [
    "another_array=np.array([[11,12,13],[21,22,23]])\n",
    "print(another_array)"
   ]
  },
  {
   "cell_type": "code",
   "execution_count": 11,
   "metadata": {},
   "outputs": [
    {
     "name": "stdout",
     "output_type": "stream",
     "text": [
      "(2, 3)\n"
     ]
    }
   ],
   "source": [
    "print(another_array.shape)"
   ]
  },
  {
   "cell_type": "code",
   "execution_count": 12,
   "metadata": {},
   "outputs": [
    {
     "name": "stdout",
     "output_type": "stream",
     "text": [
      "[[0. 0.]\n",
      " [0. 0.]]\n"
     ]
    }
   ],
   "source": [
    "#creating a 2*2 an array with just zeros\n",
    "#zeros creates a matrix with 0\n",
    "ex1 = np.zeros((2,2))\n",
    "print(ex1)"
   ]
  },
  {
   "cell_type": "code",
   "execution_count": 15,
   "metadata": {},
   "outputs": [
    {
     "name": "stdout",
     "output_type": "stream",
     "text": [
      "[[1. 1.]\n",
      " [1. 1.]]\n"
     ]
    }
   ],
   "source": [
    "#creating a 2*2 an array with just ones\n",
    "#ones creates a matrix with 1\n",
    "ex2 = np.ones((2,2))\n",
    "print(ex2)"
   ]
  },
  {
   "cell_type": "code",
   "execution_count": 16,
   "metadata": {},
   "outputs": [
    {
     "name": "stdout",
     "output_type": "stream",
     "text": [
      "[[9. 9.]\n",
      " [9. 9.]]\n"
     ]
    }
   ],
   "source": [
    "#creating a 2*2 an array with any number we use full\n",
    "#full creates a matrix with any number\n",
    "ex3 = np.full((2,2),9.0)\n",
    "print(ex3)"
   ]
  },
  {
   "cell_type": "code",
   "execution_count": 18,
   "metadata": {},
   "outputs": [
    {
     "name": "stdout",
     "output_type": "stream",
     "text": [
      "[[1. 0.]\n",
      " [0. 1.]]\n"
     ]
    }
   ],
   "source": [
    "#creating a 2*2 an array with any number we use eye\n",
    "#eye creates a matrix with diagonal 1s and 0s\n",
    "ex4 = np.eye(2,2)\n",
    "print(ex4)"
   ]
  },
  {
   "cell_type": "code",
   "execution_count": 19,
   "metadata": {},
   "outputs": [
    {
     "name": "stdout",
     "output_type": "stream",
     "text": [
      "[[0.25935062 0.96169722]\n",
      " [0.90719101 0.02561665]]\n"
     ]
    }
   ],
   "source": [
    "#create a random array\n",
    "ex5=np.random.random((2,2))\n",
    "print(ex5)"
   ]
  },
  {
   "cell_type": "code",
   "execution_count": 20,
   "metadata": {},
   "outputs": [
    {
     "name": "stdout",
     "output_type": "stream",
     "text": [
      "[[11 12 13 14]\n",
      " [21 22 23 24]\n",
      " [31 32 33 34]]\n"
     ]
    }
   ],
   "source": [
    "ex6=np.array([[11,12,13,14],[21,22,23,24],[31,32,33,34]])\n",
    "print(ex6)"
   ]
  },
  {
   "cell_type": "code",
   "execution_count": 29,
   "metadata": {},
   "outputs": [
    {
     "name": "stdout",
     "output_type": "stream",
     "text": [
      "[[21 22]\n",
      " [31 32]]\n"
     ]
    }
   ],
   "source": [
    "slice=(ex6[1:3, :2])\n",
    "print(slice)"
   ]
  },
  {
   "cell_type": "code",
   "execution_count": 33,
   "metadata": {},
   "outputs": [
    {
     "name": "stdout",
     "output_type": "stream",
     "text": [
      "[[ 11  12 103  14]\n",
      " [ 21  22  23  24]\n",
      " [ 31  32  33  34]]\n"
     ]
    }
   ],
   "source": [
    "#change 13 to 103\n",
    "ex6[0,2]=103\n",
    "print(ex6)"
   ]
  },
  {
   "cell_type": "code",
   "execution_count": 35,
   "metadata": {},
   "outputs": [
    {
     "data": {
      "text/plain": [
       "array([103,  21,  22,  23,  24,  31,  32,  33,  34])"
      ]
     },
     "execution_count": 35,
     "metadata": {},
     "output_type": "execute_result"
    }
   ],
   "source": [
    "#filter >20\n",
    "ex6[ex6>20]\n"
   ]
  },
  {
   "cell_type": "code",
   "execution_count": 36,
   "metadata": {},
   "outputs": [
    {
     "name": "stderr",
     "output_type": "stream",
     "text": [
      "C:\\ProgramData\\Anaconda3\\lib\\site-packages\\ipykernel_launcher.py:2: FutureWarning: Using a non-tuple sequence for multidimensional indexing is deprecated; use `arr[tuple(seq)]` instead of `arr[seq]`. In the future this will be interpreted as an array index, `arr[np.array(seq)]`, which will result either in an error or a different result.\n",
      "  \n"
     ]
    },
    {
     "data": {
      "text/plain": [
       "array([12, 14, 22, 24, 32, 34])"
      ]
     },
     "execution_count": 36,
     "metadata": {},
     "output_type": "execute_result"
    }
   ],
   "source": [
    "#even number\n",
    "ex6[[ex6 % 2 ==0 ]]"
   ]
  },
  {
   "cell_type": "code",
   "execution_count": 39,
   "metadata": {},
   "outputs": [
    {
     "name": "stderr",
     "output_type": "stream",
     "text": [
      "C:\\ProgramData\\Anaconda3\\lib\\site-packages\\ipykernel_launcher.py:2: FutureWarning: Using a non-tuple sequence for multidimensional indexing is deprecated; use `arr[tuple(seq)]` instead of `arr[seq]`. In the future this will be interpreted as an array index, `arr[np.array(seq)]`, which will result either in an error or a different result.\n",
      "  \n"
     ]
    },
    {
     "data": {
      "text/plain": [
       "array([212, 214, 222, 224, 232, 234])"
      ]
     },
     "execution_count": 39,
     "metadata": {},
     "output_type": "execute_result"
    }
   ],
   "source": [
    "#add 100 to the even number\n",
    "ex6[[ex6 % 2 ==0 ]]+100"
   ]
  },
  {
   "cell_type": "code",
   "execution_count": 41,
   "metadata": {},
   "outputs": [
    {
     "name": "stdout",
     "output_type": "stream",
     "text": [
      "[[111 112]\n",
      " [222 333]]\n"
     ]
    }
   ],
   "source": [
    "#create an array\n",
    "ex7=np.array([[111,112],[222,333]])\n",
    "print(ex7)"
   ]
  },
  {
   "cell_type": "code",
   "execution_count": 42,
   "metadata": {},
   "outputs": [
    {
     "name": "stdout",
     "output_type": "stream",
     "text": [
      "[[100 101]\n",
      " [200 202]]\n"
     ]
    }
   ],
   "source": [
    "#create an array\n",
    "ex8=np.array([[100,101],[200,202]])\n",
    "print(ex8)"
   ]
  },
  {
   "cell_type": "code",
   "execution_count": 44,
   "metadata": {},
   "outputs": [
    {
     "name": "stdout",
     "output_type": "stream",
     "text": [
      "[[211 213]\n",
      " [422 535]]\n"
     ]
    }
   ],
   "source": [
    "#adding \n",
    "print(ex7+ex8)"
   ]
  },
  {
   "cell_type": "code",
   "execution_count": 45,
   "metadata": {},
   "outputs": [
    {
     "name": "stdout",
     "output_type": "stream",
     "text": [
      "[[ 11  11]\n",
      " [ 22 131]]\n"
     ]
    }
   ],
   "source": [
    "#minus \n",
    "print(ex7-ex8)"
   ]
  },
  {
   "cell_type": "code",
   "execution_count": 46,
   "metadata": {},
   "outputs": [
    {
     "name": "stdout",
     "output_type": "stream",
     "text": [
      "[[11100 11312]\n",
      " [44400 67266]]\n"
     ]
    }
   ],
   "source": [
    "#multiply\n",
    "print(ex7*ex8)"
   ]
  },
  {
   "cell_type": "code",
   "execution_count": 47,
   "metadata": {},
   "outputs": [
    {
     "name": "stdout",
     "output_type": "stream",
     "text": [
      "[[1.11       1.10891089]\n",
      " [1.11       1.64851485]]\n"
     ]
    }
   ],
   "source": [
    "#divide\n",
    "print(ex7/ex8)"
   ]
  },
  {
   "cell_type": "code",
   "execution_count": 48,
   "metadata": {},
   "outputs": [
    {
     "name": "stdout",
     "output_type": "stream",
     "text": [
      "[[1049659969          0]\n",
      " [         0 1581269833]]\n"
     ]
    }
   ],
   "source": [
    "#use exponential \n",
    "print(ex7**ex8)"
   ]
  },
  {
   "cell_type": "code",
   "execution_count": 49,
   "metadata": {},
   "outputs": [
    {
     "name": "stdout",
     "output_type": "stream",
     "text": [
      "[[211 213]\n",
      " [422 535]]\n"
     ]
    }
   ],
   "source": [
    "#using numpy\n",
    "print(np.add(ex7,ex8))"
   ]
  },
  {
   "cell_type": "code",
   "execution_count": 50,
   "metadata": {},
   "outputs": [
    {
     "name": "stdout",
     "output_type": "stream",
     "text": [
      "[[ 11  11]\n",
      " [ 22 131]]\n"
     ]
    }
   ],
   "source": [
    "#using numpy\n",
    "print(np.subtract(ex7,ex8))"
   ]
  },
  {
   "cell_type": "code",
   "execution_count": 51,
   "metadata": {},
   "outputs": [
    {
     "name": "stdout",
     "output_type": "stream",
     "text": [
      "[[11100 11312]\n",
      " [44400 67266]]\n"
     ]
    }
   ],
   "source": [
    "#using numpy\n",
    "print(np.multiply(ex7,ex8))"
   ]
  },
  {
   "cell_type": "code",
   "execution_count": 52,
   "metadata": {},
   "outputs": [
    {
     "name": "stdout",
     "output_type": "stream",
     "text": [
      "[[1.11       1.10891089]\n",
      " [1.11       1.64851485]]\n"
     ]
    }
   ],
   "source": [
    "#using numpy\n",
    "print(np.divide(ex7,ex8))"
   ]
  },
  {
   "cell_type": "code",
   "execution_count": 53,
   "metadata": {},
   "outputs": [
    {
     "name": "stdout",
     "output_type": "stream",
     "text": [
      "[[1049659969          0]\n",
      " [         0 1581269833]]\n"
     ]
    }
   ],
   "source": [
    "#using numpy for exponent\n",
    "print(np.power(ex7,ex8))"
   ]
  },
  {
   "cell_type": "code",
   "execution_count": 58,
   "metadata": {},
   "outputs": [
    {
     "name": "stdout",
     "output_type": "stream",
     "text": [
      "194.5\n",
      "150.75\n"
     ]
    }
   ],
   "source": [
    "#get the mean\n",
    "\n",
    "print(np.mean(ex7))\n",
    "print(np.mean(ex8))"
   ]
  },
  {
   "cell_type": "code",
   "execution_count": 59,
   "metadata": {},
   "outputs": [
    {
     "name": "stdout",
     "output_type": "stream",
     "text": [
      "[166.5 222.5]\n",
      "[150.  151.5]\n"
     ]
    }
   ],
   "source": [
    "#get mean by row\n",
    "print(np.mean(ex7,axis=0))\n",
    "print(np.mean(ex8,axis=0))"
   ]
  },
  {
   "cell_type": "code",
   "execution_count": 60,
   "metadata": {},
   "outputs": [
    {
     "name": "stdout",
     "output_type": "stream",
     "text": [
      "167.0\n",
      "150.5\n"
     ]
    }
   ],
   "source": [
    "#get the median\n",
    "print(np.median(ex7))\n",
    "print(np.median(ex8))"
   ]
  },
  {
   "cell_type": "code",
   "execution_count": 61,
   "metadata": {},
   "outputs": [
    {
     "name": "stdout",
     "output_type": "stream",
     "text": [
      "[0.66028198 0.13333166 0.1531473  0.920321   0.79074212 0.53208516\n",
      " 0.36300628 0.03969524 0.11186894 0.51819921]\n"
     ]
    }
   ],
   "source": [
    "#create 10 element array of random numbers\n",
    "#create a random array\n",
    "ex10=np.random.random(10)\n",
    "print(ex10)"
   ]
  },
  {
   "cell_type": "code",
   "execution_count": 83,
   "metadata": {},
   "outputs": [
    {
     "name": "stdout",
     "output_type": "stream",
     "text": [
      "[0.03969524 0.11186894 0.13333166 0.1531473  0.36300628 0.51819921\n",
      " 0.53208516 0.66028198 0.79074212 0.920321  ]\n",
      "[0.920321   0.79074212 0.66028198 0.53208516 0.51819921 0.36300628\n",
      " 0.1531473  0.13333166 0.11186894 0.03969524]\n",
      "[0.03969524 0.11186894 0.13333166 0.1531473  0.36300628 0.51819921\n",
      " 0.53208516 0.66028198 0.79074212 0.920321  ]\n"
     ]
    }
   ],
   "source": [
    "#sort array\n",
    "(ex10.sort(axis=0))\n",
    "print(ex10)\n",
    "\n",
    "print(ex10[::-1])\n",
    "print(ex10[::1])"
   ]
  },
  {
   "cell_type": "code",
   "execution_count": 69,
   "metadata": {},
   "outputs": [
    {
     "name": "stdout",
     "output_type": "stream",
     "text": [
      "[1 2 1 3 4 4 6 9]\n"
     ]
    }
   ],
   "source": [
    "ex11=np.array([1,2,1,3,4,4,6,9])\n",
    "print(ex11)"
   ]
  },
  {
   "cell_type": "code",
   "execution_count": 71,
   "metadata": {},
   "outputs": [
    {
     "name": "stdout",
     "output_type": "stream",
     "text": [
      "[1 2 3 4 6 9]\n"
     ]
    }
   ],
   "source": [
    "#find unique elements\n",
    "print(np.unique(ex11))"
   ]
  },
  {
   "cell_type": "code",
   "execution_count": 72,
   "metadata": {},
   "outputs": [
    {
     "name": "stdout",
     "output_type": "stream",
     "text": [
      "<class 'numpy.ndarray'>\n"
     ]
    }
   ],
   "source": [
    "#check datatype of array\n",
    "print(type(ex11))"
   ]
  },
  {
   "cell_type": "code",
   "execution_count": 87,
   "metadata": {},
   "outputs": [
    {
     "name": "stdout",
     "output_type": "stream",
     "text": [
      "int32\n"
     ]
    }
   ],
   "source": [
    "#check datatype of array\n",
    "print(ex11.dtype)"
   ]
  },
  {
   "cell_type": "code",
   "execution_count": 74,
   "metadata": {},
   "outputs": [
    {
     "name": "stdout",
     "output_type": "stream",
     "text": [
      "[1. 2. 1. 3. 4. 4. 6. 9.]\n"
     ]
    }
   ],
   "source": [
    "#convert the array to a float\n",
    "a=np.array(ex11,dtype=float)\n",
    "print(a)"
   ]
  },
  {
   "cell_type": "code",
   "execution_count": 76,
   "metadata": {},
   "outputs": [
    {
     "name": "stdout",
     "output_type": "stream",
     "text": [
      "[[11 22]\n",
      " [33 44]]\n"
     ]
    }
   ],
   "source": [
    "f=np.array([[11,22],[33,44]])\n",
    "print(f)"
   ]
  },
  {
   "cell_type": "code",
   "execution_count": 78,
   "metadata": {},
   "outputs": [
    {
     "name": "stdout",
     "output_type": "stream",
     "text": [
      "[22. 33.]\n"
     ]
    }
   ],
   "source": [
    "print(np.mean(f,axis=0))"
   ]
  },
  {
   "cell_type": "code",
   "execution_count": 79,
   "metadata": {},
   "outputs": [
    {
     "name": "stdout",
     "output_type": "stream",
     "text": [
      "[16.5 38.5]\n"
     ]
    }
   ],
   "source": [
    "print(np.mean(f,axis=1))"
   ]
  },
  {
   "cell_type": "code",
   "execution_count": 81,
   "metadata": {},
   "outputs": [
    {
     "name": "stdout",
     "output_type": "stream",
     "text": [
      "27.5\n"
     ]
    }
   ],
   "source": [
    "# mean of entire matrix using None\n",
    "print(np.mean(f,axis=None))"
   ]
  },
  {
   "cell_type": "code",
   "execution_count": null,
   "metadata": {},
   "outputs": [],
   "source": []
  }
 ],
 "metadata": {
  "kernelspec": {
   "display_name": "Python 3",
   "language": "python",
   "name": "python3"
  },
  "language_info": {
   "codemirror_mode": {
    "name": "ipython",
    "version": 3
   },
   "file_extension": ".py",
   "mimetype": "text/x-python",
   "name": "python",
   "nbconvert_exporter": "python",
   "pygments_lexer": "ipython3",
   "version": "3.7.1"
  }
 },
 "nbformat": 4,
 "nbformat_minor": 2
}
